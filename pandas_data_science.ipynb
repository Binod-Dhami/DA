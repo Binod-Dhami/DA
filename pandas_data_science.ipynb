{
 "cells": [
  {
   "cell_type": "code",
   "execution_count": 1,
   "id": "496c5a08-c3c5-47fc-9165-e00c1f94b77f",
   "metadata": {},
   "outputs": [],
   "source": [
    "#why pandas?\n",
    "# flexibility of python\n",
    "# working with big data\n"
   ]
  },
  {
   "cell_type": "code",
   "execution_count": 2,
   "id": "e3c0b1fc-4586-4ddf-a1e7-0a4ffa8f6128",
   "metadata": {},
   "outputs": [],
   "source": [
    "import pandas as pd"
   ]
  },
  {
   "cell_type": "code",
   "execution_count": null,
   "id": "ac6e7083-7d8a-4afe-a337-3e381f9b5e43",
   "metadata": {},
   "outputs": [],
   "source": [
    "#inserting the data"
   ]
  },
  {
   "cell_type": "code",
   "execution_count": 3,
   "id": "6039aac5-8a38-4178-b3c8-11cd8dc9074c",
   "metadata": {},
   "outputs": [],
   "source": [
    "df=pd.read_csv('/Users/binoddhami/Desktop/XLS FILES/pokemon_data.csv')"
   ]
  },
  {
   "cell_type": "code",
   "execution_count": 4,
   "id": "bb58c815-e9df-4389-a62e-cb29cbc61de9",
   "metadata": {},
   "outputs": [
    {
     "name": "stdout",
     "output_type": "stream",
     "text": [
      "<class 'pandas.core.frame.DataFrame'>\n",
      "RangeIndex: 800 entries, 0 to 799\n",
      "Data columns (total 12 columns):\n",
      " #   Column      Non-Null Count  Dtype \n",
      "---  ------      --------------  ----- \n",
      " 0   #           800 non-null    int64 \n",
      " 1   Name        800 non-null    object\n",
      " 2   Type 1      800 non-null    object\n",
      " 3   Type 2      414 non-null    object\n",
      " 4   HP          800 non-null    int64 \n",
      " 5   Attack      800 non-null    int64 \n",
      " 6   Defense     800 non-null    int64 \n",
      " 7   Sp. Atk     800 non-null    int64 \n",
      " 8   Sp. Def     800 non-null    int64 \n",
      " 9   Speed       800 non-null    int64 \n",
      " 10  Generation  800 non-null    int64 \n",
      " 11  Legendary   800 non-null    bool  \n",
      "dtypes: bool(1), int64(8), object(3)\n",
      "memory usage: 69.7+ KB\n"
     ]
    }
   ],
   "source": [
    "df.info()"
   ]
  },
  {
   "cell_type": "code",
   "execution_count": 5,
   "id": "e04c1589-ac35-47dd-b8c6-851b77e37cc9",
   "metadata": {},
   "outputs": [
    {
     "data": {
      "text/html": [
       "<div>\n",
       "<style scoped>\n",
       "    .dataframe tbody tr th:only-of-type {\n",
       "        vertical-align: middle;\n",
       "    }\n",
       "\n",
       "    .dataframe tbody tr th {\n",
       "        vertical-align: top;\n",
       "    }\n",
       "\n",
       "    .dataframe thead th {\n",
       "        text-align: right;\n",
       "    }\n",
       "</style>\n",
       "<table border=\"1\" class=\"dataframe\">\n",
       "  <thead>\n",
       "    <tr style=\"text-align: right;\">\n",
       "      <th></th>\n",
       "      <th>#</th>\n",
       "      <th>Name</th>\n",
       "      <th>Type 1</th>\n",
       "      <th>Type 2</th>\n",
       "      <th>HP</th>\n",
       "      <th>Attack</th>\n",
       "      <th>Defense</th>\n",
       "      <th>Sp. Atk</th>\n",
       "      <th>Sp. Def</th>\n",
       "      <th>Speed</th>\n",
       "      <th>Generation</th>\n",
       "      <th>Legendary</th>\n",
       "    </tr>\n",
       "  </thead>\n",
       "  <tbody>\n",
       "    <tr>\n",
       "      <th>0</th>\n",
       "      <td>1</td>\n",
       "      <td>Bulbasaur</td>\n",
       "      <td>Grass</td>\n",
       "      <td>Poison</td>\n",
       "      <td>45</td>\n",
       "      <td>49</td>\n",
       "      <td>49</td>\n",
       "      <td>65</td>\n",
       "      <td>65</td>\n",
       "      <td>45</td>\n",
       "      <td>1</td>\n",
       "      <td>False</td>\n",
       "    </tr>\n",
       "    <tr>\n",
       "      <th>1</th>\n",
       "      <td>2</td>\n",
       "      <td>Ivysaur</td>\n",
       "      <td>Grass</td>\n",
       "      <td>Poison</td>\n",
       "      <td>60</td>\n",
       "      <td>62</td>\n",
       "      <td>63</td>\n",
       "      <td>80</td>\n",
       "      <td>80</td>\n",
       "      <td>60</td>\n",
       "      <td>1</td>\n",
       "      <td>False</td>\n",
       "    </tr>\n",
       "    <tr>\n",
       "      <th>2</th>\n",
       "      <td>3</td>\n",
       "      <td>Venusaur</td>\n",
       "      <td>Grass</td>\n",
       "      <td>Poison</td>\n",
       "      <td>80</td>\n",
       "      <td>82</td>\n",
       "      <td>83</td>\n",
       "      <td>100</td>\n",
       "      <td>100</td>\n",
       "      <td>80</td>\n",
       "      <td>1</td>\n",
       "      <td>False</td>\n",
       "    </tr>\n",
       "    <tr>\n",
       "      <th>3</th>\n",
       "      <td>3</td>\n",
       "      <td>VenusaurMega Venusaur</td>\n",
       "      <td>Grass</td>\n",
       "      <td>Poison</td>\n",
       "      <td>80</td>\n",
       "      <td>100</td>\n",
       "      <td>123</td>\n",
       "      <td>122</td>\n",
       "      <td>120</td>\n",
       "      <td>80</td>\n",
       "      <td>1</td>\n",
       "      <td>False</td>\n",
       "    </tr>\n",
       "    <tr>\n",
       "      <th>4</th>\n",
       "      <td>4</td>\n",
       "      <td>Charmander</td>\n",
       "      <td>Fire</td>\n",
       "      <td>NaN</td>\n",
       "      <td>39</td>\n",
       "      <td>52</td>\n",
       "      <td>43</td>\n",
       "      <td>60</td>\n",
       "      <td>50</td>\n",
       "      <td>65</td>\n",
       "      <td>1</td>\n",
       "      <td>False</td>\n",
       "    </tr>\n",
       "  </tbody>\n",
       "</table>\n",
       "</div>"
      ],
      "text/plain": [
       "   #                   Name Type 1  Type 2  HP  Attack  Defense  Sp. Atk  \\\n",
       "0  1              Bulbasaur  Grass  Poison  45      49       49       65   \n",
       "1  2                Ivysaur  Grass  Poison  60      62       63       80   \n",
       "2  3               Venusaur  Grass  Poison  80      82       83      100   \n",
       "3  3  VenusaurMega Venusaur  Grass  Poison  80     100      123      122   \n",
       "4  4             Charmander   Fire     NaN  39      52       43       60   \n",
       "\n",
       "   Sp. Def  Speed  Generation  Legendary  \n",
       "0       65     45           1      False  \n",
       "1       80     60           1      False  \n",
       "2      100     80           1      False  \n",
       "3      120     80           1      False  \n",
       "4       50     65           1      False  "
      ]
     },
     "execution_count": 5,
     "metadata": {},
     "output_type": "execute_result"
    }
   ],
   "source": [
    "df.head()"
   ]
  },
  {
   "cell_type": "code",
   "execution_count": 6,
   "id": "d26041e1-bf79-40bd-a7c2-3e7d6b645a4a",
   "metadata": {},
   "outputs": [
    {
     "name": "stdout",
     "output_type": "stream",
     "text": [
      "       #                   Name   Type 1  Type 2  HP  Attack  Defense  \\\n",
      "0      1              Bulbasaur    Grass  Poison  45      49       49   \n",
      "1      2                Ivysaur    Grass  Poison  60      62       63   \n",
      "2      3               Venusaur    Grass  Poison  80      82       83   \n",
      "3      3  VenusaurMega Venusaur    Grass  Poison  80     100      123   \n",
      "4      4             Charmander     Fire     NaN  39      52       43   \n",
      "..   ...                    ...      ...     ...  ..     ...      ...   \n",
      "795  719                Diancie     Rock   Fairy  50     100      150   \n",
      "796  719    DiancieMega Diancie     Rock   Fairy  50     160      110   \n",
      "797  720    HoopaHoopa Confined  Psychic   Ghost  80     110       60   \n",
      "798  720     HoopaHoopa Unbound  Psychic    Dark  80     160       60   \n",
      "799  721              Volcanion     Fire   Water  80     110      120   \n",
      "\n",
      "     Sp. Atk  Sp. Def  Speed  Generation  Legendary  \n",
      "0         65       65     45           1      False  \n",
      "1         80       80     60           1      False  \n",
      "2        100      100     80           1      False  \n",
      "3        122      120     80           1      False  \n",
      "4         60       50     65           1      False  \n",
      "..       ...      ...    ...         ...        ...  \n",
      "795      100      150     50           6       True  \n",
      "796      160      110    110           6       True  \n",
      "797      150      130     70           6       True  \n",
      "798      170      130     80           6       True  \n",
      "799      130       90     70           6       True  \n",
      "\n",
      "[800 rows x 12 columns]\n"
     ]
    }
   ],
   "source": [
    "print(df)"
   ]
  },
  {
   "cell_type": "code",
   "execution_count": null,
   "id": "f6570a1f-3edb-4cd0-9450-19041ab903b4",
   "metadata": {},
   "outputs": [],
   "source": [
    "#reading the data"
   ]
  },
  {
   "cell_type": "code",
   "execution_count": 10,
   "id": "a1e12a2c-f9e1-4670-a64c-9feaeeb57659",
   "metadata": {},
   "outputs": [
    {
     "name": "stdout",
     "output_type": "stream",
     "text": [
      "Index(['#', 'Name', 'Type 1', 'Type 2', 'HP', 'Attack', 'Defense', 'Sp. Atk',\n",
      "       'Sp. Def', 'Speed', 'Generation', 'Legendary'],\n",
      "      dtype='object')\n"
     ]
    }
   ],
   "source": [
    "print(df.columns)"
   ]
  },
  {
   "cell_type": "code",
   "execution_count": 12,
   "id": "ca2a873d-5d79-4ba8-adf8-bb3b7892a6a2",
   "metadata": {},
   "outputs": [
    {
     "name": "stdout",
     "output_type": "stream",
     "text": [
      "0                  Bulbasaur\n",
      "1                    Ivysaur\n",
      "2                   Venusaur\n",
      "3      VenusaurMega Venusaur\n",
      "4                 Charmander\n",
      "               ...          \n",
      "795                  Diancie\n",
      "796      DiancieMega Diancie\n",
      "797      HoopaHoopa Confined\n",
      "798       HoopaHoopa Unbound\n",
      "799                Volcanion\n",
      "Name: Name, Length: 800, dtype: object\n"
     ]
    }
   ],
   "source": [
    "print(df.Name)"
   ]
  },
  {
   "cell_type": "code",
   "execution_count": null,
   "id": "5978b6d6-2237-4c5b-bb01-fc2204119430",
   "metadata": {},
   "outputs": [],
   "source": [
    "#sorting/ trying th commit"
   ]
  }
 ],
 "metadata": {
  "kernelspec": {
   "display_name": "Python 3 (ipykernel)",
   "language": "python",
   "name": "python3"
  },
  "language_info": {
   "codemirror_mode": {
    "name": "ipython",
    "version": 3
   },
   "file_extension": ".py",
   "mimetype": "text/x-python",
   "name": "python",
   "nbconvert_exporter": "python",
   "pygments_lexer": "ipython3",
   "version": "3.11.0"
  }
 },
 "nbformat": 4,
 "nbformat_minor": 5
}
