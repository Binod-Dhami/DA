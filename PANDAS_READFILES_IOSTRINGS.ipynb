{
 "cells": [
  {
   "cell_type": "code",
   "execution_count": 1,
   "id": "4b0addf6-0e11-4db1-b88d-c22bb336e1b1",
   "metadata": {},
   "outputs": [],
   "source": [
    "from io import StringIO"
   ]
  },
  {
   "cell_type": "code",
   "execution_count": 2,
   "id": "f6d3b111-4ad5-4316-85e8-bb668f51781b",
   "metadata": {},
   "outputs": [],
   "source": [
    "import pandas as pd"
   ]
  },
  {
   "cell_type": "code",
   "execution_count": 28,
   "id": "f064d9f1-8e80-42ca-8435-d18cdafb4337",
   "metadata": {},
   "outputs": [
    {
     "data": {
      "text/html": [
       "<div>\n",
       "<style scoped>\n",
       "    .dataframe tbody tr th:only-of-type {\n",
       "        vertical-align: middle;\n",
       "    }\n",
       "\n",
       "    .dataframe tbody tr th {\n",
       "        vertical-align: top;\n",
       "    }\n",
       "\n",
       "    .dataframe thead th {\n",
       "        text-align: right;\n",
       "    }\n",
       "</style>\n",
       "<table border=\"1\" class=\"dataframe\">\n",
       "  <thead>\n",
       "    <tr style=\"text-align: right;\">\n",
       "      <th></th>\n",
       "      <th>Account</th>\n",
       "      <th>Businees Unit</th>\n",
       "      <th>Currency</th>\n",
       "      <th>Year</th>\n",
       "      <th>Scenario</th>\n",
       "      <th>Jan</th>\n",
       "      <th>Feb</th>\n",
       "      <th>Mar</th>\n",
       "      <th>Apr</th>\n",
       "      <th>May</th>\n",
       "      <th>Jun</th>\n",
       "      <th>Jul</th>\n",
       "      <th>Aug</th>\n",
       "      <th>Sep</th>\n",
       "      <th>Oct</th>\n",
       "      <th>Nov</th>\n",
       "      <th>Dec</th>\n",
       "    </tr>\n",
       "  </thead>\n",
       "  <tbody>\n",
       "    <tr>\n",
       "      <th>0</th>\n",
       "      <td>Sales</td>\n",
       "      <td>Software</td>\n",
       "      <td>USD</td>\n",
       "      <td>2012</td>\n",
       "      <td>Actuals</td>\n",
       "      <td>$90,924,002</td>\n",
       "      <td>$82,606,134</td>\n",
       "      <td>$72,780,220</td>\n",
       "      <td>$52,943,701</td>\n",
       "      <td>$77,528,109</td>\n",
       "      <td>$96,384,524</td>\n",
       "      <td>$77,345,061</td>\n",
       "      <td>$98,290,873</td>\n",
       "      <td>$79,879,127</td>\n",
       "      <td>$95,373,403</td>\n",
       "      <td>$54,887,908</td>\n",
       "      <td>$82,703,597</td>\n",
       "    </tr>\n",
       "    <tr>\n",
       "      <th>1</th>\n",
       "      <td>Cost of Goods Sold</td>\n",
       "      <td>Software</td>\n",
       "      <td>USD</td>\n",
       "      <td>2012</td>\n",
       "      <td>Actuals</td>\n",
       "      <td>($41,623,278)</td>\n",
       "      <td>($40,464,347)</td>\n",
       "      <td>($30,806,326)</td>\n",
       "      <td>($21,412,962)</td>\n",
       "      <td>($37,047,252)</td>\n",
       "      <td>($44,819,597)</td>\n",
       "      <td>($34,847,393)</td>\n",
       "      <td>($47,903,350)</td>\n",
       "      <td>($35,880,653)</td>\n",
       "      <td>($44,982,115)</td>\n",
       "      <td>($26,929,424)</td>\n",
       "      <td>($34,233,473)</td>\n",
       "    </tr>\n",
       "    <tr>\n",
       "      <th>2</th>\n",
       "      <td>Commissions Expense</td>\n",
       "      <td>Software</td>\n",
       "      <td>USD</td>\n",
       "      <td>2012</td>\n",
       "      <td>Actuals</td>\n",
       "      <td>($4,454,359)</td>\n",
       "      <td>($3,386,032)</td>\n",
       "      <td>($3,389,705)</td>\n",
       "      <td>($2,149,257)</td>\n",
       "      <td>($3,168,079)</td>\n",
       "      <td>($4,417,624)</td>\n",
       "      <td>($3,386,461)</td>\n",
       "      <td>($4,052,846)</td>\n",
       "      <td>($3,418,737)</td>\n",
       "      <td>($4,365,527)</td>\n",
       "      <td>($2,455,561)</td>\n",
       "      <td>($3,646,726)</td>\n",
       "    </tr>\n",
       "    <tr>\n",
       "      <th>3</th>\n",
       "      <td>Payroll Expense</td>\n",
       "      <td>Software</td>\n",
       "      <td>USD</td>\n",
       "      <td>2012</td>\n",
       "      <td>Actuals</td>\n",
       "      <td>($9,901,680)</td>\n",
       "      <td>($9,871,172)</td>\n",
       "      <td>($8,459,696)</td>\n",
       "      <td>($6,303,408)</td>\n",
       "      <td>($8,493,573)</td>\n",
       "      <td>($11,082,494)</td>\n",
       "      <td>($8,081,033)</td>\n",
       "      <td>($11,070,018)</td>\n",
       "      <td>($8,410,665)</td>\n",
       "      <td>($10,081,727)</td>\n",
       "      <td>($6,300,578)</td>\n",
       "      <td>($9,099,438)</td>\n",
       "    </tr>\n",
       "    <tr>\n",
       "      <th>4</th>\n",
       "      <td>Travel &amp; Entertainment Expense</td>\n",
       "      <td>Software</td>\n",
       "      <td>USD</td>\n",
       "      <td>2012</td>\n",
       "      <td>Actuals</td>\n",
       "      <td>($951,255)</td>\n",
       "      <td>($838,985)</td>\n",
       "      <td>($872,700)</td>\n",
       "      <td>($624,416)</td>\n",
       "      <td>($919,835)</td>\n",
       "      <td>($1,085,296)</td>\n",
       "      <td>($818,602)</td>\n",
       "      <td>($1,040,585)</td>\n",
       "      <td>($803,190)</td>\n",
       "      <td>($1,158,623)</td>\n",
       "      <td>($611,335)</td>\n",
       "      <td>($941,542)</td>\n",
       "    </tr>\n",
       "  </tbody>\n",
       "</table>\n",
       "</div>"
      ],
      "text/plain": [
       "                          Account Businees Unit Currency  Year Scenario  \\\n",
       "0                           Sales      Software      USD  2012  Actuals   \n",
       "1              Cost of Goods Sold      Software      USD  2012  Actuals   \n",
       "2             Commissions Expense      Software      USD  2012  Actuals   \n",
       "3                 Payroll Expense      Software      USD  2012  Actuals   \n",
       "4  Travel & Entertainment Expense      Software      USD  2012  Actuals   \n",
       "\n",
       "             Jan            Feb            Mar            Apr            May  \\\n",
       "0   $90,924,002    $82,606,134    $72,780,220    $52,943,701    $77,528,109    \n",
       "1  ($41,623,278)  ($40,464,347)  ($30,806,326)  ($21,412,962)  ($37,047,252)   \n",
       "2   ($4,454,359)   ($3,386,032)   ($3,389,705)   ($2,149,257)   ($3,168,079)   \n",
       "3   ($9,901,680)   ($9,871,172)   ($8,459,696)   ($6,303,408)   ($8,493,573)   \n",
       "4     ($951,255)     ($838,985)     ($872,700)     ($624,416)     ($919,835)   \n",
       "\n",
       "             Jun            Jul            Aug            Sep            Oct  \\\n",
       "0   $96,384,524    $77,345,061    $98,290,873    $79,879,127    $95,373,403    \n",
       "1  ($44,819,597)  ($34,847,393)  ($47,903,350)  ($35,880,653)  ($44,982,115)   \n",
       "2   ($4,417,624)   ($3,386,461)   ($4,052,846)   ($3,418,737)   ($4,365,527)   \n",
       "3  ($11,082,494)   ($8,081,033)  ($11,070,018)   ($8,410,665)  ($10,081,727)   \n",
       "4   ($1,085,296)     ($818,602)   ($1,040,585)     ($803,190)   ($1,158,623)   \n",
       "\n",
       "             Nov            Dec  \n",
       "0   $54,887,908    $82,703,597   \n",
       "1  ($26,929,424)  ($34,233,473)  \n",
       "2   ($2,455,561)   ($3,646,726)  \n",
       "3   ($6,300,578)   ($9,099,438)  \n",
       "4     ($611,335)     ($941,542)  "
      ]
     },
     "execution_count": 28,
     "metadata": {},
     "output_type": "execute_result"
    }
   ],
   "source": [
    "df=pd.read_csv('/Users/binoddhami/Desktop/XLS FILES/Financials Sample Data.csv')\n",
    "df.head()"
   ]
  },
  {
   "cell_type": "code",
   "execution_count": 13,
   "id": "46852405-4b87-487b-a10f-c48c4db283fa",
   "metadata": {},
   "outputs": [
    {
     "data": {
      "text/plain": [
       "pandas.core.frame.DataFrame"
      ]
     },
     "execution_count": 13,
     "metadata": {},
     "output_type": "execute_result"
    }
   ],
   "source": [
    "type(df)"
   ]
  },
  {
   "cell_type": "code",
   "execution_count": 15,
   "id": "8a779b08-9e78-4e99-8429-e867ea096260",
   "metadata": {},
   "outputs": [],
   "source": [
    "data=('col1,col2,col3\\n'\n",
    "    'x,y,1\\n'\n",
    "    'a,b,2\\n'\n",
    "    'c,d,3')"
   ]
  },
  {
   "cell_type": "code",
   "execution_count": 16,
   "id": "2804c21a-f4a2-4543-8de4-efbc0bc2af24",
   "metadata": {},
   "outputs": [
    {
     "data": {
      "text/plain": [
       "str"
      ]
     },
     "execution_count": 16,
     "metadata": {},
     "output_type": "execute_result"
    }
   ],
   "source": [
    "type(data)"
   ]
  },
  {
   "cell_type": "code",
   "execution_count": 17,
   "id": "720059bf-4282-4a81-a7d5-cd2e35568206",
   "metadata": {},
   "outputs": [
    {
     "data": {
      "text/plain": [
       "<_io.StringIO at 0x11fe728c0>"
      ]
     },
     "execution_count": 17,
     "metadata": {},
     "output_type": "execute_result"
    }
   ],
   "source": [
    "#in memory file formate object\n",
    "StringIO(data)"
   ]
  },
  {
   "cell_type": "code",
   "execution_count": 18,
   "id": "e9bbb151-65bc-4fe4-ae9d-ecfcc1eee518",
   "metadata": {},
   "outputs": [
    {
     "data": {
      "text/html": [
       "<div>\n",
       "<style scoped>\n",
       "    .dataframe tbody tr th:only-of-type {\n",
       "        vertical-align: middle;\n",
       "    }\n",
       "\n",
       "    .dataframe tbody tr th {\n",
       "        vertical-align: top;\n",
       "    }\n",
       "\n",
       "    .dataframe thead th {\n",
       "        text-align: right;\n",
       "    }\n",
       "</style>\n",
       "<table border=\"1\" class=\"dataframe\">\n",
       "  <thead>\n",
       "    <tr style=\"text-align: right;\">\n",
       "      <th></th>\n",
       "      <th>col1</th>\n",
       "      <th>col2</th>\n",
       "      <th>col3</th>\n",
       "    </tr>\n",
       "  </thead>\n",
       "  <tbody>\n",
       "    <tr>\n",
       "      <th>0</th>\n",
       "      <td>x</td>\n",
       "      <td>y</td>\n",
       "      <td>1</td>\n",
       "    </tr>\n",
       "    <tr>\n",
       "      <th>1</th>\n",
       "      <td>a</td>\n",
       "      <td>b</td>\n",
       "      <td>2</td>\n",
       "    </tr>\n",
       "    <tr>\n",
       "      <th>2</th>\n",
       "      <td>c</td>\n",
       "      <td>d</td>\n",
       "      <td>3</td>\n",
       "    </tr>\n",
       "  </tbody>\n",
       "</table>\n",
       "</div>"
      ],
      "text/plain": [
       "  col1 col2  col3\n",
       "0    x    y     1\n",
       "1    a    b     2\n",
       "2    c    d     3"
      ]
     },
     "execution_count": 18,
     "metadata": {},
     "output_type": "execute_result"
    }
   ],
   "source": [
    "pd.read_csv(StringIO(data))"
   ]
  },
  {
   "cell_type": "code",
   "execution_count": 23,
   "id": "5fe97ec7-4fb5-4b10-a185-7c21af52bb77",
   "metadata": {},
   "outputs": [
    {
     "data": {
      "text/html": [
       "<div>\n",
       "<style scoped>\n",
       "    .dataframe tbody tr th:only-of-type {\n",
       "        vertical-align: middle;\n",
       "    }\n",
       "\n",
       "    .dataframe tbody tr th {\n",
       "        vertical-align: top;\n",
       "    }\n",
       "\n",
       "    .dataframe thead th {\n",
       "        text-align: right;\n",
       "    }\n",
       "</style>\n",
       "<table border=\"1\" class=\"dataframe\">\n",
       "  <thead>\n",
       "    <tr style=\"text-align: right;\">\n",
       "      <th></th>\n",
       "      <th>col1</th>\n",
       "      <th>col2</th>\n",
       "    </tr>\n",
       "  </thead>\n",
       "  <tbody>\n",
       "    <tr>\n",
       "      <th>0</th>\n",
       "      <td>x</td>\n",
       "      <td>y</td>\n",
       "    </tr>\n",
       "    <tr>\n",
       "      <th>1</th>\n",
       "      <td>a</td>\n",
       "      <td>b</td>\n",
       "    </tr>\n",
       "    <tr>\n",
       "      <th>2</th>\n",
       "      <td>c</td>\n",
       "      <td>d</td>\n",
       "    </tr>\n",
       "  </tbody>\n",
       "</table>\n",
       "</div>"
      ],
      "text/plain": [
       "  col1 col2\n",
       "0    x    y\n",
       "1    a    b\n",
       "2    c    d"
      ]
     },
     "execution_count": 23,
     "metadata": {},
     "output_type": "execute_result"
    }
   ],
   "source": [
    "pd.read_csv(StringIO(data),usecols=['col1','col2'])"
   ]
  },
  {
   "cell_type": "code",
   "execution_count": 29,
   "id": "50be70bb-17d9-4053-8bf7-63ad31a7dedc",
   "metadata": {},
   "outputs": [
    {
     "data": {
      "text/html": [
       "<div>\n",
       "<style scoped>\n",
       "    .dataframe tbody tr th:only-of-type {\n",
       "        vertical-align: middle;\n",
       "    }\n",
       "\n",
       "    .dataframe tbody tr th {\n",
       "        vertical-align: top;\n",
       "    }\n",
       "\n",
       "    .dataframe thead th {\n",
       "        text-align: right;\n",
       "    }\n",
       "</style>\n",
       "<table border=\"1\" class=\"dataframe\">\n",
       "  <thead>\n",
       "    <tr style=\"text-align: right;\">\n",
       "      <th></th>\n",
       "      <th>Jan</th>\n",
       "      <th>Feb</th>\n",
       "      <th>Mar</th>\n",
       "      <th>Apr</th>\n",
       "      <th>May</th>\n",
       "      <th>Jun</th>\n",
       "    </tr>\n",
       "  </thead>\n",
       "  <tbody>\n",
       "    <tr>\n",
       "      <th>0</th>\n",
       "      <td>$90,924,002</td>\n",
       "      <td>$82,606,134</td>\n",
       "      <td>$72,780,220</td>\n",
       "      <td>$52,943,701</td>\n",
       "      <td>$77,528,109</td>\n",
       "      <td>$96,384,524</td>\n",
       "    </tr>\n",
       "    <tr>\n",
       "      <th>1</th>\n",
       "      <td>($41,623,278)</td>\n",
       "      <td>($40,464,347)</td>\n",
       "      <td>($30,806,326)</td>\n",
       "      <td>($21,412,962)</td>\n",
       "      <td>($37,047,252)</td>\n",
       "      <td>($44,819,597)</td>\n",
       "    </tr>\n",
       "    <tr>\n",
       "      <th>2</th>\n",
       "      <td>($4,454,359)</td>\n",
       "      <td>($3,386,032)</td>\n",
       "      <td>($3,389,705)</td>\n",
       "      <td>($2,149,257)</td>\n",
       "      <td>($3,168,079)</td>\n",
       "      <td>($4,417,624)</td>\n",
       "    </tr>\n",
       "    <tr>\n",
       "      <th>3</th>\n",
       "      <td>($9,901,680)</td>\n",
       "      <td>($9,871,172)</td>\n",
       "      <td>($8,459,696)</td>\n",
       "      <td>($6,303,408)</td>\n",
       "      <td>($8,493,573)</td>\n",
       "      <td>($11,082,494)</td>\n",
       "    </tr>\n",
       "    <tr>\n",
       "      <th>4</th>\n",
       "      <td>($951,255)</td>\n",
       "      <td>($838,985)</td>\n",
       "      <td>($872,700)</td>\n",
       "      <td>($624,416)</td>\n",
       "      <td>($919,835)</td>\n",
       "      <td>($1,085,296)</td>\n",
       "    </tr>\n",
       "  </tbody>\n",
       "</table>\n",
       "</div>"
      ],
      "text/plain": [
       "             Jan            Feb            Mar            Apr            May  \\\n",
       "0   $90,924,002    $82,606,134    $72,780,220    $52,943,701    $77,528,109    \n",
       "1  ($41,623,278)  ($40,464,347)  ($30,806,326)  ($21,412,962)  ($37,047,252)   \n",
       "2   ($4,454,359)   ($3,386,032)   ($3,389,705)   ($2,149,257)   ($3,168,079)   \n",
       "3   ($9,901,680)   ($9,871,172)   ($8,459,696)   ($6,303,408)   ($8,493,573)   \n",
       "4     ($951,255)     ($838,985)     ($872,700)     ($624,416)     ($919,835)   \n",
       "\n",
       "             Jun  \n",
       "0   $96,384,524   \n",
       "1  ($44,819,597)  \n",
       "2   ($4,417,624)  \n",
       "3  ($11,082,494)  \n",
       "4   ($1,085,296)  "
      ]
     },
     "execution_count": 29,
     "metadata": {},
     "output_type": "execute_result"
    }
   ],
   "source": [
    "df=pd.read_csv('/Users/binoddhami/Desktop/XLS FILES/Financials Sample Data.csv',usecols=['Jan','Feb','Mar','Apr','May','Jun'])\n",
    "df.head()"
   ]
  },
  {
   "cell_type": "code",
   "execution_count": 34,
   "id": "d76bef14-9d1c-4ede-bb7e-58fd9521dc3c",
   "metadata": {},
   "outputs": [],
   "source": [
    "df.to_csv('text.csv',index=False)"
   ]
  },
  {
   "cell_type": "code",
   "execution_count": 36,
   "id": "c650b576-2aa1-4bcb-a992-c98967253b12",
   "metadata": {},
   "outputs": [],
   "source": [
    "##datatype in csv\n",
    "data=('a,b,c,d\\n'\n",
    "     '1,2,3,4\\n'\n",
    "    '9,10,11')"
   ]
  },
  {
   "cell_type": "code",
   "execution_count": 37,
   "id": "a457d100-7224-4045-ab4e-1b08f41ecd78",
   "metadata": {},
   "outputs": [],
   "source": [
    "df=pd.read_csv(StringIO(data))"
   ]
  },
  {
   "cell_type": "code",
   "execution_count": 49,
   "id": "daaf27e6-8b0c-41d1-8be2-f4d0e1b57728",
   "metadata": {},
   "outputs": [
    {
     "name": "stdout",
     "output_type": "stream",
     "text": [
      "<class 'pandas.core.frame.DataFrame'>\n",
      "RangeIndex: 2 entries, 0 to 1\n",
      "Data columns (total 4 columns):\n",
      " #   Column  Non-Null Count  Dtype  \n",
      "---  ------  --------------  -----  \n",
      " 0   a       2 non-null      float64\n",
      " 1   b       2 non-null      float64\n",
      " 2   c       2 non-null      float64\n",
      " 3   d       1 non-null      float64\n",
      "dtypes: float64(4)\n",
      "memory usage: 192.0 bytes\n"
     ]
    }
   ],
   "source": [
    "df.info()"
   ]
  },
  {
   "cell_type": "code",
   "execution_count": 52,
   "id": "a4af9cc8-d9a4-4dfe-b288-30f2baa821df",
   "metadata": {},
   "outputs": [],
   "source": [
    "#changing the datatype\n",
    "df=pd.read_csv(StringIO(data),dtype='object')"
   ]
  },
  {
   "cell_type": "code",
   "execution_count": 53,
   "id": "2c093db3-b7d8-4725-91d3-32457452dd4f",
   "metadata": {},
   "outputs": [
    {
     "name": "stdout",
     "output_type": "stream",
     "text": [
      "<class 'pandas.core.frame.DataFrame'>\n",
      "RangeIndex: 2 entries, 0 to 1\n",
      "Data columns (total 4 columns):\n",
      " #   Column  Non-Null Count  Dtype \n",
      "---  ------  --------------  ----- \n",
      " 0   a       2 non-null      object\n",
      " 1   b       2 non-null      object\n",
      " 2   c       2 non-null      object\n",
      " 3   d       1 non-null      object\n",
      "dtypes: object(4)\n",
      "memory usage: 192.0+ bytes\n"
     ]
    }
   ],
   "source": [
    "df.info()"
   ]
  },
  {
   "cell_type": "code",
   "execution_count": 54,
   "id": "9fac9f51-c45a-4b52-867e-deb8563cf777",
   "metadata": {},
   "outputs": [
    {
     "data": {
      "text/html": [
       "<div>\n",
       "<style scoped>\n",
       "    .dataframe tbody tr th:only-of-type {\n",
       "        vertical-align: middle;\n",
       "    }\n",
       "\n",
       "    .dataframe tbody tr th {\n",
       "        vertical-align: top;\n",
       "    }\n",
       "\n",
       "    .dataframe thead th {\n",
       "        text-align: right;\n",
       "    }\n",
       "</style>\n",
       "<table border=\"1\" class=\"dataframe\">\n",
       "  <thead>\n",
       "    <tr style=\"text-align: right;\">\n",
       "      <th></th>\n",
       "      <th>a</th>\n",
       "      <th>b</th>\n",
       "      <th>c</th>\n",
       "      <th>d</th>\n",
       "    </tr>\n",
       "  </thead>\n",
       "  <tbody>\n",
       "    <tr>\n",
       "      <th>0</th>\n",
       "      <td>1</td>\n",
       "      <td>2</td>\n",
       "      <td>3</td>\n",
       "      <td>4</td>\n",
       "    </tr>\n",
       "    <tr>\n",
       "      <th>1</th>\n",
       "      <td>9</td>\n",
       "      <td>10</td>\n",
       "      <td>11</td>\n",
       "      <td>NaN</td>\n",
       "    </tr>\n",
       "  </tbody>\n",
       "</table>\n",
       "</div>"
      ],
      "text/plain": [
       "   a   b   c    d\n",
       "0  1   2   3    4\n",
       "1  9  10  11  NaN"
      ]
     },
     "execution_count": 54,
     "metadata": {},
     "output_type": "execute_result"
    }
   ],
   "source": [
    "df.head()"
   ]
  },
  {
   "cell_type": "code",
   "execution_count": 43,
   "id": "a4054dad-ab5e-4fe5-810e-e3a0d8960a7c",
   "metadata": {},
   "outputs": [],
   "source": [
    "df=pd.read_csv(StringIO(data),dtype='float')"
   ]
  },
  {
   "cell_type": "code",
   "execution_count": 44,
   "id": "836459a0-10bd-43bc-94f8-29a7841d61be",
   "metadata": {},
   "outputs": [
    {
     "name": "stdout",
     "output_type": "stream",
     "text": [
      "<class 'pandas.core.frame.DataFrame'>\n",
      "RangeIndex: 2 entries, 0 to 1\n",
      "Data columns (total 4 columns):\n",
      " #   Column  Non-Null Count  Dtype  \n",
      "---  ------  --------------  -----  \n",
      " 0   a       2 non-null      float64\n",
      " 1   b       2 non-null      float64\n",
      " 2   c       2 non-null      float64\n",
      " 3   d       1 non-null      float64\n",
      "dtypes: float64(4)\n",
      "memory usage: 192.0 bytes\n"
     ]
    }
   ],
   "source": [
    "df.info()"
   ]
  },
  {
   "cell_type": "code",
   "execution_count": 45,
   "id": "bac8faac-bb12-4ba9-b770-95d3e199027c",
   "metadata": {},
   "outputs": [
    {
     "data": {
      "text/html": [
       "<div>\n",
       "<style scoped>\n",
       "    .dataframe tbody tr th:only-of-type {\n",
       "        vertical-align: middle;\n",
       "    }\n",
       "\n",
       "    .dataframe tbody tr th {\n",
       "        vertical-align: top;\n",
       "    }\n",
       "\n",
       "    .dataframe thead th {\n",
       "        text-align: right;\n",
       "    }\n",
       "</style>\n",
       "<table border=\"1\" class=\"dataframe\">\n",
       "  <thead>\n",
       "    <tr style=\"text-align: right;\">\n",
       "      <th></th>\n",
       "      <th>a</th>\n",
       "      <th>b</th>\n",
       "      <th>c</th>\n",
       "      <th>d</th>\n",
       "    </tr>\n",
       "  </thead>\n",
       "  <tbody>\n",
       "    <tr>\n",
       "      <th>0</th>\n",
       "      <td>1.0</td>\n",
       "      <td>2.0</td>\n",
       "      <td>3.0</td>\n",
       "      <td>4.0</td>\n",
       "    </tr>\n",
       "    <tr>\n",
       "      <th>1</th>\n",
       "      <td>9.0</td>\n",
       "      <td>10.0</td>\n",
       "      <td>11.0</td>\n",
       "      <td>NaN</td>\n",
       "    </tr>\n",
       "  </tbody>\n",
       "</table>\n",
       "</div>"
      ],
      "text/plain": [
       "     a     b     c    d\n",
       "0  1.0   2.0   3.0  4.0\n",
       "1  9.0  10.0  11.0  NaN"
      ]
     },
     "execution_count": 45,
     "metadata": {},
     "output_type": "execute_result"
    }
   ],
   "source": [
    "df.head()"
   ]
  },
  {
   "cell_type": "code",
   "execution_count": 50,
   "id": "f67f9ee8-b23d-41e9-9d69-f4a00a116bdf",
   "metadata": {},
   "outputs": [
    {
     "data": {
      "text/html": [
       "<div>\n",
       "<style scoped>\n",
       "    .dataframe tbody tr th:only-of-type {\n",
       "        vertical-align: middle;\n",
       "    }\n",
       "\n",
       "    .dataframe tbody tr th {\n",
       "        vertical-align: top;\n",
       "    }\n",
       "\n",
       "    .dataframe thead th {\n",
       "        text-align: right;\n",
       "    }\n",
       "</style>\n",
       "<table border=\"1\" class=\"dataframe\">\n",
       "  <thead>\n",
       "    <tr style=\"text-align: right;\">\n",
       "      <th></th>\n",
       "      <th>a</th>\n",
       "      <th>b</th>\n",
       "      <th>c</th>\n",
       "      <th>d</th>\n",
       "    </tr>\n",
       "  </thead>\n",
       "  <tbody>\n",
       "    <tr>\n",
       "      <th>0</th>\n",
       "      <td>1.0</td>\n",
       "      <td>2.0</td>\n",
       "      <td>3.0</td>\n",
       "      <td>4.0</td>\n",
       "    </tr>\n",
       "    <tr>\n",
       "      <th>1</th>\n",
       "      <td>9.0</td>\n",
       "      <td>10.0</td>\n",
       "      <td>11.0</td>\n",
       "      <td>NaN</td>\n",
       "    </tr>\n",
       "  </tbody>\n",
       "</table>\n",
       "</div>"
      ],
      "text/plain": [
       "     a     b     c    d\n",
       "0  1.0   2.0   3.0  4.0\n",
       "1  9.0  10.0  11.0  NaN"
      ]
     },
     "execution_count": 50,
     "metadata": {},
     "output_type": "execute_result"
    }
   ],
   "source": [
    "df.head()"
   ]
  },
  {
   "cell_type": "code",
   "execution_count": 55,
   "id": "bba74cd6-3635-4e04-995d-c9e1ebcafd1f",
   "metadata": {},
   "outputs": [
    {
     "data": {
      "text/html": [
       "<div>\n",
       "<style scoped>\n",
       "    .dataframe tbody tr th:only-of-type {\n",
       "        vertical-align: middle;\n",
       "    }\n",
       "\n",
       "    .dataframe tbody tr th {\n",
       "        vertical-align: top;\n",
       "    }\n",
       "\n",
       "    .dataframe thead th {\n",
       "        text-align: right;\n",
       "    }\n",
       "</style>\n",
       "<table border=\"1\" class=\"dataframe\">\n",
       "  <thead>\n",
       "    <tr style=\"text-align: right;\">\n",
       "      <th></th>\n",
       "      <th>a</th>\n",
       "      <th>b</th>\n",
       "      <th>c</th>\n",
       "      <th>d</th>\n",
       "    </tr>\n",
       "  </thead>\n",
       "  <tbody>\n",
       "    <tr>\n",
       "      <th>0</th>\n",
       "      <td>1</td>\n",
       "      <td>2</td>\n",
       "      <td>3</td>\n",
       "      <td>4</td>\n",
       "    </tr>\n",
       "    <tr>\n",
       "      <th>1</th>\n",
       "      <td>9</td>\n",
       "      <td>10</td>\n",
       "      <td>11</td>\n",
       "      <td>NaN</td>\n",
       "    </tr>\n",
       "  </tbody>\n",
       "</table>\n",
       "</div>"
      ],
      "text/plain": [
       "   a   b   c    d\n",
       "0  1   2   3    4\n",
       "1  9  10  11  NaN"
      ]
     },
     "execution_count": 55,
     "metadata": {},
     "output_type": "execute_result"
    }
   ],
   "source": [
    "df.head()"
   ]
  },
  {
   "cell_type": "code",
   "execution_count": 56,
   "id": "b426390b-7213-45f4-b1fe-497be084eba4",
   "metadata": {},
   "outputs": [
    {
     "data": {
      "text/plain": [
       "a    0\n",
       "b    0\n",
       "c    0\n",
       "d    1\n",
       "dtype: int64"
      ]
     },
     "execution_count": 56,
     "metadata": {},
     "output_type": "execute_result"
    }
   ],
   "source": [
    "#to check null values\n",
    "df.isnull().sum()"
   ]
  },
  {
   "cell_type": "code",
   "execution_count": 57,
   "id": "5f385a35-f419-449f-a1e8-8b53fa977939",
   "metadata": {},
   "outputs": [
    {
     "data": {
      "text/plain": [
       "0    1\n",
       "1    9\n",
       "Name: a, dtype: object"
      ]
     },
     "execution_count": 57,
     "metadata": {},
     "output_type": "execute_result"
    }
   ],
   "source": [
    "df['a']"
   ]
  },
  {
   "cell_type": "code",
   "execution_count": 64,
   "id": "59bbd54d-3a99-4171-a2d8-d90f36d9e4a9",
   "metadata": {},
   "outputs": [],
   "source": [
    "##datatype in csv\n",
    "data=('a,b,c,d\\n'\n",
    "     '1,2,3,4\\n'\n",
    "    '9,10,11')"
   ]
  },
  {
   "cell_type": "code",
   "execution_count": 67,
   "id": "583d3c8f-c65f-4af0-bd13-b12967d3656f",
   "metadata": {},
   "outputs": [],
   "source": [
    "#changing datatype\n",
    "df=pd.read_csv(StringIO(data),dtype={'a':int,'b':float,'c':int})"
   ]
  },
  {
   "cell_type": "code",
   "execution_count": 68,
   "id": "5efc3308-0783-49c2-9eea-8b65fa1e117b",
   "metadata": {},
   "outputs": [
    {
     "data": {
      "text/html": [
       "<div>\n",
       "<style scoped>\n",
       "    .dataframe tbody tr th:only-of-type {\n",
       "        vertical-align: middle;\n",
       "    }\n",
       "\n",
       "    .dataframe tbody tr th {\n",
       "        vertical-align: top;\n",
       "    }\n",
       "\n",
       "    .dataframe thead th {\n",
       "        text-align: right;\n",
       "    }\n",
       "</style>\n",
       "<table border=\"1\" class=\"dataframe\">\n",
       "  <thead>\n",
       "    <tr style=\"text-align: right;\">\n",
       "      <th></th>\n",
       "      <th>a</th>\n",
       "      <th>b</th>\n",
       "      <th>c</th>\n",
       "      <th>d</th>\n",
       "    </tr>\n",
       "  </thead>\n",
       "  <tbody>\n",
       "    <tr>\n",
       "      <th>0</th>\n",
       "      <td>1</td>\n",
       "      <td>2.0</td>\n",
       "      <td>3</td>\n",
       "      <td>4.0</td>\n",
       "    </tr>\n",
       "    <tr>\n",
       "      <th>1</th>\n",
       "      <td>9</td>\n",
       "      <td>10.0</td>\n",
       "      <td>11</td>\n",
       "      <td>NaN</td>\n",
       "    </tr>\n",
       "  </tbody>\n",
       "</table>\n",
       "</div>"
      ],
      "text/plain": [
       "   a     b   c    d\n",
       "0  1   2.0   3  4.0\n",
       "1  9  10.0  11  NaN"
      ]
     },
     "execution_count": 68,
     "metadata": {},
     "output_type": "execute_result"
    }
   ],
   "source": [
    "df.head()"
   ]
  },
  {
   "cell_type": "code",
   "execution_count": 69,
   "id": "a76d2892-182e-4232-8572-9020d069c5b4",
   "metadata": {},
   "outputs": [
    {
     "name": "stdout",
     "output_type": "stream",
     "text": [
      "<class 'pandas.core.frame.DataFrame'>\n",
      "RangeIndex: 2 entries, 0 to 1\n",
      "Data columns (total 4 columns):\n",
      " #   Column  Non-Null Count  Dtype  \n",
      "---  ------  --------------  -----  \n",
      " 0   a       2 non-null      int64  \n",
      " 1   b       2 non-null      float64\n",
      " 2   c       2 non-null      int64  \n",
      " 3   d       1 non-null      float64\n",
      "dtypes: float64(2), int64(2)\n",
      "memory usage: 192.0 bytes\n"
     ]
    }
   ],
   "source": [
    "df.info()"
   ]
  },
  {
   "cell_type": "code",
   "execution_count": 70,
   "id": "89c9ebb3-54fd-4edf-bc31-b734f1c0723a",
   "metadata": {},
   "outputs": [
    {
     "data": {
      "text/plain": [
       "a      int64\n",
       "b    float64\n",
       "c      int64\n",
       "d    float64\n",
       "dtype: object"
      ]
     },
     "execution_count": 70,
     "metadata": {},
     "output_type": "execute_result"
    }
   ],
   "source": [
    "df.dtypes"
   ]
  },
  {
   "cell_type": "code",
   "execution_count": 71,
   "id": "8c92da0a-fc6b-4467-a897-adffa64d76b2",
   "metadata": {},
   "outputs": [
    {
     "name": "stdout",
     "output_type": "stream",
     "text": [
      "<class 'pandas.core.frame.DataFrame'>\n",
      "RangeIndex: 2 entries, 0 to 1\n",
      "Data columns (total 4 columns):\n",
      " #   Column  Non-Null Count  Dtype  \n",
      "---  ------  --------------  -----  \n",
      " 0   a       2 non-null      int64  \n",
      " 1   b       2 non-null      float64\n",
      " 2   c       2 non-null      int64  \n",
      " 3   d       1 non-null      float64\n",
      "dtypes: float64(2), int64(2)\n",
      "memory usage: 192.0 bytes\n"
     ]
    }
   ],
   "source": [
    "df.info()"
   ]
  },
  {
   "cell_type": "code",
   "execution_count": null,
   "id": "353f04db-a1bd-484b-8897-541d6cfc2910",
   "metadata": {},
   "outputs": [],
   "source": []
  }
 ],
 "metadata": {
  "kernelspec": {
   "display_name": "Python 3 (ipykernel)",
   "language": "python",
   "name": "python3"
  },
  "language_info": {
   "codemirror_mode": {
    "name": "ipython",
    "version": 3
   },
   "file_extension": ".py",
   "mimetype": "text/x-python",
   "name": "python",
   "nbconvert_exporter": "python",
   "pygments_lexer": "ipython3",
   "version": "3.11.0"
  }
 },
 "nbformat": 4,
 "nbformat_minor": 5
}
